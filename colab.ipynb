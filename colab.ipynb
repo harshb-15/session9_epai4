{
  "cells": [
    {
      "cell_type": "markdown",
      "metadata": {
        "id": "view-in-github",
        "colab_type": "text"
      },
      "source": [
        "<a href=\"https://colab.research.google.com/github/harshb-15/session9_epai4/blob/main/colab.ipynb\" target=\"_parent\"><img src=\"https://colab.research.google.com/assets/colab-badge.svg\" alt=\"Open In Colab\"/></a>"
      ]
    },
    {
      "cell_type": "code",
      "source": [
        "! git clone https://github.com/harshb-15/session9_epai4.git"
      ],
      "metadata": {
        "colab": {
          "base_uri": "https://localhost:8080/"
        },
        "id": "sEcXLpRZ3151",
        "outputId": "3762564d-072f-467a-a697-21b2ce3e7003"
      },
      "execution_count": 10,
      "outputs": [
        {
          "output_type": "stream",
          "name": "stdout",
          "text": [
            "fatal: destination path 'session9_epai4' already exists and is not an empty directory.\n"
          ]
        }
      ]
    },
    {
      "cell_type": "code",
      "source": [
        "! ls"
      ],
      "metadata": {
        "colab": {
          "base_uri": "https://localhost:8080/"
        },
        "id": "l2ltnp_f4Ega",
        "outputId": "50aac1bf-7646-4f8d-845b-b0baedaf8e26"
      },
      "execution_count": 11,
      "outputs": [
        {
          "output_type": "stream",
          "name": "stdout",
          "text": [
            "sample_data  session9_epai4\n"
          ]
        }
      ]
    },
    {
      "cell_type": "code",
      "execution_count": 12,
      "metadata": {
        "id": "ksgizNPC26-K"
      },
      "outputs": [],
      "source": [
        "from session9_epai4.Objective1 import Polygon"
      ]
    },
    {
      "cell_type": "code",
      "execution_count": 13,
      "metadata": {
        "colab": {
          "base_uri": "https://localhost:8080/"
        },
        "id": "AWMMn5zo26-N",
        "outputId": "0aeee5c7-da49-4ed8-ec11-108782421004"
      },
      "outputs": [
        {
          "output_type": "execute_result",
          "data": {
            "text/plain": [
              "Regular Convex Polygon : Sides = 5, Radius = 10, Angle = 108.0, Side Length = 11.76, Apothem = 8.09, Area = 237.85, Perimeter = 58.8"
            ]
          },
          "metadata": {},
          "execution_count": 13
        }
      ],
      "source": [
        "# __repr__ function\n",
        "a = Polygon(5,10)\n",
        "a"
      ]
    },
    {
      "cell_type": "code",
      "execution_count": 14,
      "metadata": {
        "colab": {
          "base_uri": "https://localhost:8080/"
        },
        "id": "Y4Iiurcu26-S",
        "outputId": "770bdf6f-9407-4e76-b0d3-567b6a756c9a"
      },
      "outputs": [
        {
          "output_type": "execute_result",
          "data": {
            "text/plain": [
              "(True, False, False)"
            ]
          },
          "metadata": {},
          "execution_count": 14
        }
      ],
      "source": [
        "# __eq__ function\n",
        "a = Polygon(6,7) \n",
        "b = Polygon(6,7)\n",
        "c = Polygon(7,6)\n",
        "a==b,b==c,c==a"
      ]
    },
    {
      "cell_type": "code",
      "execution_count": 15,
      "metadata": {
        "colab": {
          "base_uri": "https://localhost:8080/"
        },
        "id": "7BhA3igQ26-V",
        "outputId": "2d629cc6-193b-45dd-c4eb-75c888badcbf"
      },
      "outputs": [
        {
          "output_type": "execute_result",
          "data": {
            "text/plain": [
              "True"
            ]
          },
          "metadata": {},
          "execution_count": 15
        }
      ],
      "source": [
        "# __gt__ function\n",
        "a = Polygon(5,1000)\n",
        "b = Polygon(6,1)\n",
        "b>a"
      ]
    },
    {
      "cell_type": "code",
      "execution_count": 16,
      "metadata": {
        "id": "HXfsN_mo26-Y"
      },
      "outputs": [],
      "source": [
        "from session9_epai4.Objective2 import Polygon_Sequence"
      ]
    },
    {
      "cell_type": "code",
      "execution_count": 17,
      "metadata": {
        "colab": {
          "base_uri": "https://localhost:8080/",
          "height": 54
        },
        "id": "4z7O50yH26-a",
        "outputId": "a6114eaa-e4f7-4906-c6df-6500de8efd4a"
      },
      "outputs": [
        {
          "output_type": "execute_result",
          "data": {
            "application/vnd.google.colaboratory.intrinsic+json": {
              "type": "string"
            },
            "text/plain": [
              "'Maximum Efficiancy Polygon with ratio 2.48 is Regular Convex Polygon : Sides = 25, Radius = 5, Angle = 165.6, Side Length = 1.25, Apothem = 4.96, Area = 77.5, Perimeter = 31.25 '"
            ]
          },
          "metadata": {},
          "execution_count": 17
        }
      ],
      "source": [
        "# Max Efficiancy Polygon\n",
        "a = Polygon_Sequence(25,5)\n",
        "a.getMaxEPoly()"
      ]
    },
    {
      "cell_type": "code",
      "execution_count": 18,
      "metadata": {
        "colab": {
          "base_uri": "https://localhost:8080/"
        },
        "id": "KtGpLVxY26-c",
        "outputId": "b2686882-69a4-4b70-ce53-05bfb1462317"
      },
      "outputs": [
        {
          "output_type": "stream",
          "name": "stdout",
          "text": [
            "Polygon Sequence :- Common Radius: 15, Max Number of Edges: 10, Number of Polygons: 8 \n"
          ]
        }
      ],
      "source": [
        "# __repr__ function\n",
        "a = Polygon_Sequence(10,15)\n",
        "print(a)"
      ]
    }
  ],
  "metadata": {
    "interpreter": {
      "hash": "fa75d8bc5ccab01a7033e6242428220a3889e6993773b22b740e8a0b5f2c0245"
    },
    "kernelspec": {
      "display_name": "Python 3.9.6 64-bit",
      "language": "python",
      "name": "python3"
    },
    "language_info": {
      "codemirror_mode": {
        "name": "ipython",
        "version": 3
      },
      "file_extension": ".py",
      "mimetype": "text/x-python",
      "name": "python",
      "nbconvert_exporter": "python",
      "pygments_lexer": "ipython3",
      "version": "3.9.9"
    },
    "orig_nbformat": 4,
    "colab": {
      "name": "colab.ipynb",
      "provenance": [],
      "include_colab_link": true
    }
  },
  "nbformat": 4,
  "nbformat_minor": 0
}